{
  "cells": [
    {
      "cell_type": "markdown",
      "metadata": {
        "id": "tikqueip7gr5"
      },
      "source": [
        "# Necessary Imports"
      ]
    },
    {
      "cell_type": "markdown",
      "metadata": {
        "id": "7-Jc_1PH7goD"
      },
      "source": []
    },
    {
      "cell_type": "code",
      "execution_count": 3,
      "metadata": {
        "id": "QfkpN59d_32f"
      },
      "outputs": [],
      "source": [
        "import pandas as pd\n",
        "import numpy as np\n",
        "import matplotlib.pyplot as plt\n",
        "import seaborn as sns\n",
        "import os\n",
        "from sklearn.linear_model import LinearRegression\n",
        "from sklearn.preprocessing import StandardScaler, PolynomialFeatures, OneHotEncoder\n",
        "from sklearn.pipeline import make_pipeline\n",
        "from sklearn.model_selection import LeaveOneOut, cross_val_score, KFold\n",
        "from sklearn.compose import ColumnTransformer"
      ]
    },
    {
      "cell_type": "markdown",
      "metadata": {
        "id": "cTmKM3B5A3R8"
      },
      "source": [
        "# New Section"
      ]
    },
    {
      "cell_type": "code",
      "execution_count": 4,
      "metadata": {
        "colab": {
          "base_uri": "https://localhost:8080/",
          "height": 630
        },
        "id": "apxj8IyF5ir-",
        "outputId": "cc790aca-66d5-4b3f-fbda-144b16bde005"
      },
      "outputs": [
        {
          "data": {
            "text/html": [
              "<div>\n",
              "<style scoped>\n",
              "    .dataframe tbody tr th:only-of-type {\n",
              "        vertical-align: middle;\n",
              "    }\n",
              "\n",
              "    .dataframe tbody tr th {\n",
              "        vertical-align: top;\n",
              "    }\n",
              "\n",
              "    .dataframe thead th {\n",
              "        text-align: right;\n",
              "    }\n",
              "</style>\n",
              "<table border=\"1\" class=\"dataframe\">\n",
              "  <thead>\n",
              "    <tr style=\"text-align: right;\">\n",
              "      <th></th>\n",
              "      <th>hotel</th>\n",
              "      <th>is_canceled</th>\n",
              "      <th>lead_time</th>\n",
              "      <th>arrival_date_year</th>\n",
              "      <th>arrival_date_month</th>\n",
              "      <th>arrival_date_week_number</th>\n",
              "      <th>arrival_date_day_of_month</th>\n",
              "      <th>stays_in_weekend_nights</th>\n",
              "      <th>stays_in_week_nights</th>\n",
              "      <th>adults</th>\n",
              "      <th>...</th>\n",
              "      <th>deposit_type</th>\n",
              "      <th>agent</th>\n",
              "      <th>company</th>\n",
              "      <th>days_in_waiting_list</th>\n",
              "      <th>customer_type</th>\n",
              "      <th>adr</th>\n",
              "      <th>required_car_parking_spaces</th>\n",
              "      <th>total_of_special_requests</th>\n",
              "      <th>reservation_status</th>\n",
              "      <th>reservation_status_date</th>\n",
              "    </tr>\n",
              "  </thead>\n",
              "  <tbody>\n",
              "    <tr>\n",
              "      <th>0</th>\n",
              "      <td>Resort Hotel</td>\n",
              "      <td>0</td>\n",
              "      <td>342</td>\n",
              "      <td>2015</td>\n",
              "      <td>July</td>\n",
              "      <td>27</td>\n",
              "      <td>1</td>\n",
              "      <td>0</td>\n",
              "      <td>0</td>\n",
              "      <td>2</td>\n",
              "      <td>...</td>\n",
              "      <td>No Deposit</td>\n",
              "      <td>NaN</td>\n",
              "      <td>NaN</td>\n",
              "      <td>0</td>\n",
              "      <td>Transient</td>\n",
              "      <td>0.0</td>\n",
              "      <td>0</td>\n",
              "      <td>0</td>\n",
              "      <td>Check-Out</td>\n",
              "      <td>2015-07-01</td>\n",
              "    </tr>\n",
              "    <tr>\n",
              "      <th>1</th>\n",
              "      <td>Resort Hotel</td>\n",
              "      <td>0</td>\n",
              "      <td>737</td>\n",
              "      <td>2015</td>\n",
              "      <td>July</td>\n",
              "      <td>27</td>\n",
              "      <td>1</td>\n",
              "      <td>0</td>\n",
              "      <td>0</td>\n",
              "      <td>2</td>\n",
              "      <td>...</td>\n",
              "      <td>No Deposit</td>\n",
              "      <td>NaN</td>\n",
              "      <td>NaN</td>\n",
              "      <td>0</td>\n",
              "      <td>Transient</td>\n",
              "      <td>0.0</td>\n",
              "      <td>0</td>\n",
              "      <td>0</td>\n",
              "      <td>Check-Out</td>\n",
              "      <td>2015-07-01</td>\n",
              "    </tr>\n",
              "    <tr>\n",
              "      <th>2</th>\n",
              "      <td>Resort Hotel</td>\n",
              "      <td>0</td>\n",
              "      <td>7</td>\n",
              "      <td>2015</td>\n",
              "      <td>July</td>\n",
              "      <td>27</td>\n",
              "      <td>1</td>\n",
              "      <td>0</td>\n",
              "      <td>1</td>\n",
              "      <td>1</td>\n",
              "      <td>...</td>\n",
              "      <td>No Deposit</td>\n",
              "      <td>NaN</td>\n",
              "      <td>NaN</td>\n",
              "      <td>0</td>\n",
              "      <td>Transient</td>\n",
              "      <td>75.0</td>\n",
              "      <td>0</td>\n",
              "      <td>0</td>\n",
              "      <td>Check-Out</td>\n",
              "      <td>2015-07-02</td>\n",
              "    </tr>\n",
              "    <tr>\n",
              "      <th>3</th>\n",
              "      <td>Resort Hotel</td>\n",
              "      <td>0</td>\n",
              "      <td>13</td>\n",
              "      <td>2015</td>\n",
              "      <td>July</td>\n",
              "      <td>27</td>\n",
              "      <td>1</td>\n",
              "      <td>0</td>\n",
              "      <td>1</td>\n",
              "      <td>1</td>\n",
              "      <td>...</td>\n",
              "      <td>No Deposit</td>\n",
              "      <td>304.0</td>\n",
              "      <td>NaN</td>\n",
              "      <td>0</td>\n",
              "      <td>Transient</td>\n",
              "      <td>75.0</td>\n",
              "      <td>0</td>\n",
              "      <td>0</td>\n",
              "      <td>Check-Out</td>\n",
              "      <td>2015-07-02</td>\n",
              "    </tr>\n",
              "    <tr>\n",
              "      <th>4</th>\n",
              "      <td>Resort Hotel</td>\n",
              "      <td>0</td>\n",
              "      <td>14</td>\n",
              "      <td>2015</td>\n",
              "      <td>July</td>\n",
              "      <td>27</td>\n",
              "      <td>1</td>\n",
              "      <td>0</td>\n",
              "      <td>2</td>\n",
              "      <td>2</td>\n",
              "      <td>...</td>\n",
              "      <td>No Deposit</td>\n",
              "      <td>240.0</td>\n",
              "      <td>NaN</td>\n",
              "      <td>0</td>\n",
              "      <td>Transient</td>\n",
              "      <td>98.0</td>\n",
              "      <td>0</td>\n",
              "      <td>1</td>\n",
              "      <td>Check-Out</td>\n",
              "      <td>2015-07-03</td>\n",
              "    </tr>\n",
              "    <tr>\n",
              "      <th>5</th>\n",
              "      <td>Resort Hotel</td>\n",
              "      <td>0</td>\n",
              "      <td>14</td>\n",
              "      <td>2015</td>\n",
              "      <td>July</td>\n",
              "      <td>27</td>\n",
              "      <td>1</td>\n",
              "      <td>0</td>\n",
              "      <td>2</td>\n",
              "      <td>2</td>\n",
              "      <td>...</td>\n",
              "      <td>No Deposit</td>\n",
              "      <td>240.0</td>\n",
              "      <td>NaN</td>\n",
              "      <td>0</td>\n",
              "      <td>Transient</td>\n",
              "      <td>98.0</td>\n",
              "      <td>0</td>\n",
              "      <td>1</td>\n",
              "      <td>Check-Out</td>\n",
              "      <td>2015-07-03</td>\n",
              "    </tr>\n",
              "    <tr>\n",
              "      <th>6</th>\n",
              "      <td>Resort Hotel</td>\n",
              "      <td>0</td>\n",
              "      <td>0</td>\n",
              "      <td>2015</td>\n",
              "      <td>July</td>\n",
              "      <td>27</td>\n",
              "      <td>1</td>\n",
              "      <td>0</td>\n",
              "      <td>2</td>\n",
              "      <td>2</td>\n",
              "      <td>...</td>\n",
              "      <td>No Deposit</td>\n",
              "      <td>NaN</td>\n",
              "      <td>NaN</td>\n",
              "      <td>0</td>\n",
              "      <td>Transient</td>\n",
              "      <td>107.0</td>\n",
              "      <td>0</td>\n",
              "      <td>0</td>\n",
              "      <td>Check-Out</td>\n",
              "      <td>2015-07-03</td>\n",
              "    </tr>\n",
              "    <tr>\n",
              "      <th>7</th>\n",
              "      <td>Resort Hotel</td>\n",
              "      <td>0</td>\n",
              "      <td>9</td>\n",
              "      <td>2015</td>\n",
              "      <td>July</td>\n",
              "      <td>27</td>\n",
              "      <td>1</td>\n",
              "      <td>0</td>\n",
              "      <td>2</td>\n",
              "      <td>2</td>\n",
              "      <td>...</td>\n",
              "      <td>No Deposit</td>\n",
              "      <td>303.0</td>\n",
              "      <td>NaN</td>\n",
              "      <td>0</td>\n",
              "      <td>Transient</td>\n",
              "      <td>103.0</td>\n",
              "      <td>0</td>\n",
              "      <td>1</td>\n",
              "      <td>Check-Out</td>\n",
              "      <td>2015-07-03</td>\n",
              "    </tr>\n",
              "    <tr>\n",
              "      <th>8</th>\n",
              "      <td>Resort Hotel</td>\n",
              "      <td>1</td>\n",
              "      <td>85</td>\n",
              "      <td>2015</td>\n",
              "      <td>July</td>\n",
              "      <td>27</td>\n",
              "      <td>1</td>\n",
              "      <td>0</td>\n",
              "      <td>3</td>\n",
              "      <td>2</td>\n",
              "      <td>...</td>\n",
              "      <td>No Deposit</td>\n",
              "      <td>240.0</td>\n",
              "      <td>NaN</td>\n",
              "      <td>0</td>\n",
              "      <td>Transient</td>\n",
              "      <td>82.0</td>\n",
              "      <td>0</td>\n",
              "      <td>1</td>\n",
              "      <td>Canceled</td>\n",
              "      <td>2015-05-06</td>\n",
              "    </tr>\n",
              "    <tr>\n",
              "      <th>9</th>\n",
              "      <td>Resort Hotel</td>\n",
              "      <td>1</td>\n",
              "      <td>75</td>\n",
              "      <td>2015</td>\n",
              "      <td>July</td>\n",
              "      <td>27</td>\n",
              "      <td>1</td>\n",
              "      <td>0</td>\n",
              "      <td>3</td>\n",
              "      <td>2</td>\n",
              "      <td>...</td>\n",
              "      <td>No Deposit</td>\n",
              "      <td>15.0</td>\n",
              "      <td>NaN</td>\n",
              "      <td>0</td>\n",
              "      <td>Transient</td>\n",
              "      <td>105.5</td>\n",
              "      <td>0</td>\n",
              "      <td>0</td>\n",
              "      <td>Canceled</td>\n",
              "      <td>2015-04-22</td>\n",
              "    </tr>\n",
              "  </tbody>\n",
              "</table>\n",
              "<p>10 rows × 32 columns</p>\n",
              "</div>"
            ],
            "text/plain": [
              "          hotel  is_canceled  lead_time  arrival_date_year arrival_date_month  \\\n",
              "0  Resort Hotel            0        342               2015               July   \n",
              "1  Resort Hotel            0        737               2015               July   \n",
              "2  Resort Hotel            0          7               2015               July   \n",
              "3  Resort Hotel            0         13               2015               July   \n",
              "4  Resort Hotel            0         14               2015               July   \n",
              "5  Resort Hotel            0         14               2015               July   \n",
              "6  Resort Hotel            0          0               2015               July   \n",
              "7  Resort Hotel            0          9               2015               July   \n",
              "8  Resort Hotel            1         85               2015               July   \n",
              "9  Resort Hotel            1         75               2015               July   \n",
              "\n",
              "   arrival_date_week_number  arrival_date_day_of_month  \\\n",
              "0                        27                          1   \n",
              "1                        27                          1   \n",
              "2                        27                          1   \n",
              "3                        27                          1   \n",
              "4                        27                          1   \n",
              "5                        27                          1   \n",
              "6                        27                          1   \n",
              "7                        27                          1   \n",
              "8                        27                          1   \n",
              "9                        27                          1   \n",
              "\n",
              "   stays_in_weekend_nights  stays_in_week_nights  adults  ...  deposit_type  \\\n",
              "0                        0                     0       2  ...    No Deposit   \n",
              "1                        0                     0       2  ...    No Deposit   \n",
              "2                        0                     1       1  ...    No Deposit   \n",
              "3                        0                     1       1  ...    No Deposit   \n",
              "4                        0                     2       2  ...    No Deposit   \n",
              "5                        0                     2       2  ...    No Deposit   \n",
              "6                        0                     2       2  ...    No Deposit   \n",
              "7                        0                     2       2  ...    No Deposit   \n",
              "8                        0                     3       2  ...    No Deposit   \n",
              "9                        0                     3       2  ...    No Deposit   \n",
              "\n",
              "   agent company days_in_waiting_list customer_type    adr  \\\n",
              "0    NaN     NaN                    0     Transient    0.0   \n",
              "1    NaN     NaN                    0     Transient    0.0   \n",
              "2    NaN     NaN                    0     Transient   75.0   \n",
              "3  304.0     NaN                    0     Transient   75.0   \n",
              "4  240.0     NaN                    0     Transient   98.0   \n",
              "5  240.0     NaN                    0     Transient   98.0   \n",
              "6    NaN     NaN                    0     Transient  107.0   \n",
              "7  303.0     NaN                    0     Transient  103.0   \n",
              "8  240.0     NaN                    0     Transient   82.0   \n",
              "9   15.0     NaN                    0     Transient  105.5   \n",
              "\n",
              "   required_car_parking_spaces  total_of_special_requests  reservation_status  \\\n",
              "0                            0                          0           Check-Out   \n",
              "1                            0                          0           Check-Out   \n",
              "2                            0                          0           Check-Out   \n",
              "3                            0                          0           Check-Out   \n",
              "4                            0                          1           Check-Out   \n",
              "5                            0                          1           Check-Out   \n",
              "6                            0                          0           Check-Out   \n",
              "7                            0                          1           Check-Out   \n",
              "8                            0                          1            Canceled   \n",
              "9                            0                          0            Canceled   \n",
              "\n",
              "  reservation_status_date  \n",
              "0              2015-07-01  \n",
              "1              2015-07-01  \n",
              "2              2015-07-02  \n",
              "3              2015-07-02  \n",
              "4              2015-07-03  \n",
              "5              2015-07-03  \n",
              "6              2015-07-03  \n",
              "7              2015-07-03  \n",
              "8              2015-05-06  \n",
              "9              2015-04-22  \n",
              "\n",
              "[10 rows x 32 columns]"
            ]
          },
          "execution_count": 4,
          "metadata": {},
          "output_type": "execute_result"
        }
      ],
      "source": [
        "data = pd.read_csv('../data.csv')\n",
        "data.head(10)"
      ]
    },
    {
      "cell_type": "code",
      "execution_count": 5,
      "metadata": {
        "id": "TJLKYZJ074HQ"
      },
      "outputs": [],
      "source": [
        "# We can fill NaN values for number of children with 0 (only 4 NaN values)\n",
        "data['children'] = data['children'].fillna(0)"
      ]
    },
    {
      "cell_type": "code",
      "execution_count": 135,
      "metadata": {
        "id": "qM8meYNd767K"
      },
      "outputs": [],
      "source": [
        "# Removing country column for now or we can use target encoding\n",
        "data = data.drop(['country'], axis=1)\n",
        "\n",
        "# Removing agent and company columns since market_segment gives same information\n",
        "data = data.drop(['agent','company'], axis=1)\n",
        "\n",
        "# Removing all columns relating to arrival date except week number and year for now\n",
        "data = data.drop(['arrival_date_month','arrival_date_day_of_month'], axis=1)"
      ]
    },
    {
      "cell_type": "code",
      "execution_count": 136,
      "metadata": {
        "id": "huvuPstr79ui"
      },
      "outputs": [],
      "source": [
        "# We can combine reserved_room_type and assigned_room_type columns into one that has boolean values for whether reserved and assigned matched\n",
        "# 0 -> Reserved and assigned room types matched\n",
        "# 1 -> Reserved and assigned room types didn't match\n",
        "data['reserved_assigned_match'] = np.where(data['reserved_room_type'] == data['assigned_room_type'], 0, 1)\n",
        "data = data.drop(['reserved_room_type','assigned_room_type'], axis=1)"
      ]
    },
    {
      "cell_type": "code",
      "execution_count": 137,
      "metadata": {
        "id": "aqAdBB478Af2"
      },
      "outputs": [],
      "source": [
        "# We can change the values in the meal types column. 0, 0.33, 0.67, 1 since the meal types are incremental\n",
        "data['meal'].replace(['Undefined', 'SC', 'BB', 'HB', 'FB'], [0, 0, 0.33, 0.67, 1], inplace=True)"
      ]
    },
    {
      "cell_type": "code",
      "execution_count": 138,
      "metadata": {
        "id": "o8HS3uYR8Cpt"
      },
      "outputs": [],
      "source": [
        "# We can remove the distribution channels column as market_segment column gives us same information with more granularity\n",
        "data = data.drop(['distribution_channel'], axis=1)"
      ]
    },
    {
      "cell_type": "code",
      "execution_count": 139,
      "metadata": {
        "id": "aFdKNi_V8GjY"
      },
      "outputs": [],
      "source": [
        "# Reservation Status can be ignored since it is being predicted     -> classification\n",
        "# Reservation Status can be ignored since we will only be training  -> regression\n",
        "# on those points where the booking has been cancelled\n",
        "regression_data = data.copy()\n",
        "data = data.drop(['reservation_status','reservation_status_date'], axis=1)"
      ]
    },
    {
      "cell_type": "code",
      "execution_count": 141,
      "metadata": {},
      "outputs": [
        {
          "name": "stdout",
          "output_type": "stream",
          "text": [
            "(1959, 23)\n",
            "(715, 23)\n"
          ]
        },
        {
          "ename": "ValueError",
          "evalue": "Can only compare identically-labeled DataFrame objects",
          "output_type": "error",
          "traceback": [
            "\u001b[1;31m---------------------------------------------------------------------------\u001b[0m",
            "\u001b[1;31mValueError\u001b[0m                                Traceback (most recent call last)",
            "Cell \u001b[1;32mIn[141], line 12\u001b[0m\n\u001b[0;32m     10\u001b[0m \u001b[39mprint\u001b[39m(test3\u001b[39m.\u001b[39mshape)\n\u001b[0;32m     11\u001b[0m \u001b[39m# print(test5.shape)\u001b[39;00m\n\u001b[1;32m---> 12\u001b[0m \u001b[39mprint\u001b[39m(test\u001b[39m.\u001b[39;49mcompare(test3))\n\u001b[0;32m     14\u001b[0m \u001b[39m# data1 = data.drop(data[(data.stays_in_week_nights == 0) & (data.stays_in_weekend_nights == 0)].index)\u001b[39;00m\n\u001b[0;32m     15\u001b[0m \u001b[39m# print(data1.shape)\u001b[39;00m\n\u001b[0;32m     16\u001b[0m \u001b[39m# data2 = data1.loc[(data1['adr']==0)]\u001b[39;00m\n\u001b[1;32m   (...)\u001b[0m\n\u001b[0;32m     20\u001b[0m \u001b[39m# data3 = data.loc[(data['stays_in_week_nights'] == 0) & (data['stays_in_weekend_nights'] == 0) & (data['deposit_type'] == 'No Deposit')]\u001b[39;00m\n\u001b[0;32m     21\u001b[0m \u001b[39m# print(data3.market_segment.unique())\u001b[39;00m\n\u001b[0;32m     23\u001b[0m data6 \u001b[39m=\u001b[39m data\u001b[39m.\u001b[39mloc[(data[\u001b[39m'\u001b[39m\u001b[39madr\u001b[39m\u001b[39m'\u001b[39m]\u001b[39m==\u001b[39m\u001b[39m0\u001b[39m) \u001b[39m&\u001b[39m (data[\u001b[39m'\u001b[39m\u001b[39mdeposit_type\u001b[39m\u001b[39m'\u001b[39m] \u001b[39m==\u001b[39m \u001b[39m'\u001b[39m\u001b[39mNo Deposit\u001b[39m\u001b[39m'\u001b[39m)]\n",
            "File \u001b[1;32mc:\\Users\\Aravind\\AppData\\Local\\Programs\\Python\\Python310\\lib\\site-packages\\pandas\\core\\frame.py:7847\u001b[0m, in \u001b[0;36mDataFrame.compare\u001b[1;34m(self, other, align_axis, keep_shape, keep_equal, result_names)\u001b[0m\n\u001b[0;32m   7725\u001b[0m \u001b[39m@doc\u001b[39m(\n\u001b[0;32m   7726\u001b[0m     _shared_docs[\u001b[39m\"\u001b[39m\u001b[39mcompare\u001b[39m\u001b[39m\"\u001b[39m],\n\u001b[0;32m   7727\u001b[0m     \u001b[39m\"\"\"\u001b[39;00m\n\u001b[1;32m   (...)\u001b[0m\n\u001b[0;32m   7845\u001b[0m     result_names: Suffixes \u001b[39m=\u001b[39m (\u001b[39m\"\u001b[39m\u001b[39mself\u001b[39m\u001b[39m\"\u001b[39m, \u001b[39m\"\u001b[39m\u001b[39mother\u001b[39m\u001b[39m\"\u001b[39m),\n\u001b[0;32m   7846\u001b[0m ) \u001b[39m-\u001b[39m\u001b[39m>\u001b[39m DataFrame:\n\u001b[1;32m-> 7847\u001b[0m     \u001b[39mreturn\u001b[39;00m \u001b[39msuper\u001b[39;49m()\u001b[39m.\u001b[39;49mcompare(\n\u001b[0;32m   7848\u001b[0m         other\u001b[39m=\u001b[39;49mother,\n\u001b[0;32m   7849\u001b[0m         align_axis\u001b[39m=\u001b[39;49malign_axis,\n\u001b[0;32m   7850\u001b[0m         keep_shape\u001b[39m=\u001b[39;49mkeep_shape,\n\u001b[0;32m   7851\u001b[0m         keep_equal\u001b[39m=\u001b[39;49mkeep_equal,\n\u001b[0;32m   7852\u001b[0m         result_names\u001b[39m=\u001b[39;49mresult_names,\n\u001b[0;32m   7853\u001b[0m     )\n",
            "File \u001b[1;32mc:\\Users\\Aravind\\AppData\\Local\\Programs\\Python\\Python310\\lib\\site-packages\\pandas\\core\\generic.py:9216\u001b[0m, in \u001b[0;36mNDFrame.compare\u001b[1;34m(self, other, align_axis, keep_shape, keep_equal, result_names)\u001b[0m\n\u001b[0;32m   9211\u001b[0m     cls_self, cls_other \u001b[39m=\u001b[39m \u001b[39mtype\u001b[39m(\u001b[39mself\u001b[39m)\u001b[39m.\u001b[39m\u001b[39m__name__\u001b[39m, \u001b[39mtype\u001b[39m(other)\u001b[39m.\u001b[39m\u001b[39m__name__\u001b[39m\n\u001b[0;32m   9212\u001b[0m     \u001b[39mraise\u001b[39;00m \u001b[39mTypeError\u001b[39;00m(\n\u001b[0;32m   9213\u001b[0m         \u001b[39mf\u001b[39m\u001b[39m\"\u001b[39m\u001b[39mcan only compare \u001b[39m\u001b[39m'\u001b[39m\u001b[39m{\u001b[39;00mcls_self\u001b[39m}\u001b[39;00m\u001b[39m'\u001b[39m\u001b[39m (not \u001b[39m\u001b[39m'\u001b[39m\u001b[39m{\u001b[39;00mcls_other\u001b[39m}\u001b[39;00m\u001b[39m'\u001b[39m\u001b[39m) with \u001b[39m\u001b[39m'\u001b[39m\u001b[39m{\u001b[39;00mcls_self\u001b[39m}\u001b[39;00m\u001b[39m'\u001b[39m\u001b[39m\"\u001b[39m\n\u001b[0;32m   9214\u001b[0m     )\n\u001b[1;32m-> 9216\u001b[0m mask \u001b[39m=\u001b[39m \u001b[39m~\u001b[39m((\u001b[39mself\u001b[39;49m \u001b[39m==\u001b[39;49m other) \u001b[39m|\u001b[39m (\u001b[39mself\u001b[39m\u001b[39m.\u001b[39misna() \u001b[39m&\u001b[39m other\u001b[39m.\u001b[39misna()))\n\u001b[0;32m   9218\u001b[0m \u001b[39mif\u001b[39;00m \u001b[39mnot\u001b[39;00m keep_equal:\n\u001b[0;32m   9219\u001b[0m     \u001b[39mself\u001b[39m \u001b[39m=\u001b[39m \u001b[39mself\u001b[39m\u001b[39m.\u001b[39mwhere(mask)\n",
            "File \u001b[1;32mc:\\Users\\Aravind\\AppData\\Local\\Programs\\Python\\Python310\\lib\\site-packages\\pandas\\core\\ops\\common.py:72\u001b[0m, in \u001b[0;36m_unpack_zerodim_and_defer.<locals>.new_method\u001b[1;34m(self, other)\u001b[0m\n\u001b[0;32m     68\u001b[0m             \u001b[39mreturn\u001b[39;00m \u001b[39mNotImplemented\u001b[39m\n\u001b[0;32m     70\u001b[0m other \u001b[39m=\u001b[39m item_from_zerodim(other)\n\u001b[1;32m---> 72\u001b[0m \u001b[39mreturn\u001b[39;00m method(\u001b[39mself\u001b[39;49m, other)\n",
            "File \u001b[1;32mc:\\Users\\Aravind\\AppData\\Local\\Programs\\Python\\Python310\\lib\\site-packages\\pandas\\core\\arraylike.py:42\u001b[0m, in \u001b[0;36mOpsMixin.__eq__\u001b[1;34m(self, other)\u001b[0m\n\u001b[0;32m     40\u001b[0m \u001b[39m@unpack_zerodim_and_defer\u001b[39m(\u001b[39m\"\u001b[39m\u001b[39m__eq__\u001b[39m\u001b[39m\"\u001b[39m)\n\u001b[0;32m     41\u001b[0m \u001b[39mdef\u001b[39;00m \u001b[39m__eq__\u001b[39m(\u001b[39mself\u001b[39m, other):\n\u001b[1;32m---> 42\u001b[0m     \u001b[39mreturn\u001b[39;00m \u001b[39mself\u001b[39;49m\u001b[39m.\u001b[39;49m_cmp_method(other, operator\u001b[39m.\u001b[39;49meq)\n",
            "File \u001b[1;32mc:\\Users\\Aravind\\AppData\\Local\\Programs\\Python\\Python310\\lib\\site-packages\\pandas\\core\\frame.py:7576\u001b[0m, in \u001b[0;36mDataFrame._cmp_method\u001b[1;34m(self, other, op)\u001b[0m\n\u001b[0;32m   7573\u001b[0m \u001b[39mdef\u001b[39;00m \u001b[39m_cmp_method\u001b[39m(\u001b[39mself\u001b[39m, other, op):\n\u001b[0;32m   7574\u001b[0m     axis \u001b[39m=\u001b[39m \u001b[39m1\u001b[39m  \u001b[39m# only relevant for Series other case\u001b[39;00m\n\u001b[1;32m-> 7576\u001b[0m     \u001b[39mself\u001b[39m, other \u001b[39m=\u001b[39m ops\u001b[39m.\u001b[39;49malign_method_FRAME(\u001b[39mself\u001b[39;49m, other, axis, flex\u001b[39m=\u001b[39;49m\u001b[39mFalse\u001b[39;49;00m, level\u001b[39m=\u001b[39;49m\u001b[39mNone\u001b[39;49;00m)\n\u001b[0;32m   7578\u001b[0m     \u001b[39m# See GH#4537 for discussion of scalar op behavior\u001b[39;00m\n\u001b[0;32m   7579\u001b[0m     new_data \u001b[39m=\u001b[39m \u001b[39mself\u001b[39m\u001b[39m.\u001b[39m_dispatch_frame_op(other, op, axis\u001b[39m=\u001b[39maxis)\n",
            "File \u001b[1;32mc:\\Users\\Aravind\\AppData\\Local\\Programs\\Python\\Python310\\lib\\site-packages\\pandas\\core\\ops\\__init__.py:289\u001b[0m, in \u001b[0;36malign_method_FRAME\u001b[1;34m(left, right, axis, flex, level)\u001b[0m\n\u001b[0;32m    287\u001b[0m             left, right \u001b[39m=\u001b[39m left\u001b[39m.\u001b[39malign(right, join\u001b[39m=\u001b[39m\u001b[39m\"\u001b[39m\u001b[39mouter\u001b[39m\u001b[39m\"\u001b[39m, level\u001b[39m=\u001b[39mlevel, copy\u001b[39m=\u001b[39m\u001b[39mFalse\u001b[39;00m)\n\u001b[0;32m    288\u001b[0m         \u001b[39melse\u001b[39;00m:\n\u001b[1;32m--> 289\u001b[0m             \u001b[39mraise\u001b[39;00m \u001b[39mValueError\u001b[39;00m(\n\u001b[0;32m    290\u001b[0m                 \u001b[39m\"\u001b[39m\u001b[39mCan only compare identically-labeled DataFrame objects\u001b[39m\u001b[39m\"\u001b[39m\n\u001b[0;32m    291\u001b[0m             )\n\u001b[0;32m    292\u001b[0m \u001b[39melif\u001b[39;00m \u001b[39misinstance\u001b[39m(right, ABCSeries):\n\u001b[0;32m    293\u001b[0m     \u001b[39m# axis=1 is default for DataFrame-with-Series op\u001b[39;00m\n\u001b[0;32m    294\u001b[0m     axis \u001b[39m=\u001b[39m left\u001b[39m.\u001b[39m_get_axis_number(axis) \u001b[39mif\u001b[39;00m axis \u001b[39mis\u001b[39;00m \u001b[39mnot\u001b[39;00m \u001b[39mNone\u001b[39;00m \u001b[39melse\u001b[39;00m \u001b[39m1\u001b[39m\n",
            "\u001b[1;31mValueError\u001b[0m: Can only compare identically-labeled DataFrame objects"
          ]
        }
      ],
      "source": [
        "# data = data.drop(data[(data.adr==0) & (data.market_segment=='Complementary')].index)\n",
        "# data = data.drop(data[(data.adr==0) & (data['stays_in_week_nights']==0) & (data['stays_in_weekend_nights']==0)].index)\n",
        "test = data.loc[(data['adr']==0)]\n",
        "test2 = data.loc[(data['adr']==0) & (data['deposit_type']=='No Deposit')]\n",
        "# test4 = data.loc[(data['stays_in_week_nights']==0) & (data['stays_in_weekend_nights']==0)]\n",
        "test3 = data.loc[(data['deposit_type']=='No Deposit') & (data['stays_in_week_nights']==0) & (data['stays_in_weekend_nights']==0)]\n",
        "# test5 = data.loc[(data['adr']==0) & (data['stays_in_week_nights']==0) & (data['stays_in_weekend_nights']==0)]\n",
        "print(test2.shape)\n",
        "# print(test4.shape)\n",
        "print(test3.shape)\n",
        "# print(test5.shape)\n",
        "print(test.compare(test3))\n",
        "\n",
        "# data1 = data.drop(data[(data.stays_in_week_nights == 0) & (data.stays_in_weekend_nights == 0)].index)\n",
        "# print(data1.shape)\n",
        "# data2 = data1.loc[(data1['adr']==0)]\n",
        "# print(data2.market_segment.unique())\n",
        "\n",
        "\n",
        "# data3 = data.loc[(data['stays_in_week_nights'] == 0) & (data['stays_in_weekend_nights'] == 0) & (data['deposit_type'] == 'No Deposit')]\n",
        "# print(data3.market_segment.unique())\n",
        "\n",
        "data6 = data.loc[(data['adr']==0) & (data['deposit_type'] == 'No Deposit')]\n",
        "print(data6.market_segment.unique())\n",
        "#data.loc[(data['adr']==0) & (data['market_segment']=='Complementary')]      #680\n",
        "#data.loc[(data['adr']==0) & (data['market_segment']!='Complementary') & (data['stays_in_week_nights']==0) & (data['stays_in_weekend_nights']==0)] \n"
      ]
    },
    {
      "cell_type": "code",
      "execution_count": 27,
      "metadata": {},
      "outputs": [
        {
          "data": {
            "text/plain": [
              "102681"
            ]
          },
          "execution_count": 27,
          "metadata": {},
          "output_type": "execute_result"
        }
      ],
      "source": [
        "test_data = data.copy()\n",
        "\n",
        "test_data['arrival_date_month'].replace(\n",
        "                                  ['July', 'August', 'September', 'October', 'November', 'December', 'January', 'February', 'March', 'April', 'May', 'June'],\n",
        "                                  [7,8,9,10,11,12,1,2,3,4,5,6],\n",
        "                                  inplace=True\n",
        "                              )\n",
        "\n",
        "test_data.rename(columns={'arrival_date_year': 'year', \n",
        "                  'arrival_date_month': 'month',\n",
        "                  'arrival_date_day_of_month': 'day'\n",
        "                  }, \n",
        "               inplace=True\n",
        "              )\n",
        "\n",
        "test_data.insert(3,'arrival_date',pd.to_datetime(test_data[['year', 'month', 'day']]))\n",
        "\n",
        "test = test_data.loc[(test_data['deposit_type'] == 'No Deposit') & (test_data['adr'] > 0)]\n",
        "test.shape[0]\n",
        "# stays_zero = test_data.loc[(test_data['stays_in_week_nights']==0) & (test_data['stays_in_weekend_nights']==0) & (test_data['reservation_status'] == 'Check-Out')]\n",
        "# dates_match = test_data.loc[(test_data['arrival_date'] == test_data['reservation_status_date']) & (test_data['reservation_status'] == 'Check-Out')]\n",
        "# dates_match_1 = test_data.loc[(test_data['arrival_date'] == test_data['reservation_status_date']) & (test_data['reservation_status'] == 'Check-Out')]\n",
        "\n",
        "# # stays_zero = stays_zero.sort_index(axis=1)\n",
        "# # dates_match = dates_match.sort_index(axis=1)\n",
        "# # stays_zero = stays_zero.sort_index()\n",
        "# # dates_match = dates_match.sort_index()\n",
        "# # print(stays_zero.compare(dates_match))\n",
        "# print(\"Size of stays_zero: \", stays_zero.shape[0])\n",
        "# print(\"Size of dates_match: \", dates_match.shape[0])\n",
        "\n",
        "\n",
        "# df_diff1 = pd.concat([stays_zero,dates_match]).drop_duplicates(keep=False)\n",
        "# df_diff2 = pd.concat([dates_match,stays_zero]).drop_duplicates(keep=False)\n",
        "# print(\"Diff1: \", df_diff1.shape[0])\n",
        "# print(\"Diff2: \", df_diff2.shape[0])\n",
        "\n",
        "\n",
        "# adr_zero = test_data.loc[(test_data['adr']==0)]\n",
        "# print(\"No. of records with 0 ADR: \",adr_zero.shape[0])\n",
        "# print(\"--------------------------------------\")\n",
        "\n",
        "# stays_zero_adr_zero = test_data.loc[(test_data['adr']==0) & (test_data['stays_in_week_nights']==0) & (test_data['stays_in_weekend_nights']==0)]\n",
        "# stays_zero = test_data.loc[(test_data['stays_in_week_nights']==0) & (test_data['stays_in_weekend_nights']==0)]\n",
        "# stays_zero_transient = test_data.loc[(test_data['stays_in_week_nights']==0) & (test_data['stays_in_weekend_nights']==0) & (test_data['customer_type']=='Transient')]\n",
        "# transient = test_data.loc[(test_data['customer_type']=='Transient')]\n",
        "# print(\"No. of records with 0 ADR and 0 stays: \", stays_zero_adr_zero.shape[0])\n",
        "# print(\"No. of records with 0 stays: \", stays_zero.shape[0])\n",
        "# print(\"No. of records with 0 stays and transient: \", stays_zero_transient.shape[0])\n",
        "# print(\"No. of records with transient: \", transient.shape[0])\n",
        "# print(\"Difference between the two: \", stays_zero.compare(stays_zero_adr_zero))\n",
        "\n",
        "# lead_vs_waiting = test_data.loc[(test_data['lead_time']<test_data['days_in_waiting_list'])]\n",
        "# print(\"No. of records with lead time less than waiting time: \",lead_vs_waiting.shape[0])\n",
        "\n",
        "# print(\"--------------------------------------\")\n",
        "\n",
        "# print(\"Removing 0 stays records...\")\n",
        "# test_data = test_data.drop(test_data[(test_data.stays_in_week_nights==0) & (test_data.stays_in_weekend_nights==0)].index)\n",
        "# adr_zero = test_data.loc[(test_data['adr']==0)]\n",
        "# stays_zero = test_data.loc[(test_data['stays_in_week_nights']==0) & (test_data['stays_in_weekend_nights']==0)]\n",
        "# print(\"No. of records with 0 ADR now: \",adr_zero.shape[0])\n",
        "# print(\"No. of records with 0 stays: \", stays_zero.shape[0])\n",
        "# print(\"--------------------------------------\")\n",
        "\n",
        "# complementary_adr_zero = test_data.loc[(test_data['adr']==0) & (test_data['market_segment']=='Complementary')]\n",
        "# complementary = test_data.loc[(test_data['market_segment']=='Complementary')]\n",
        "# no_deposit = test_data.loc[(test_data['deposit_type']=='No Deposit')]\n",
        "\n",
        "# print(\"No. of records with 0 ADR and complementary: \", complementary_adr_zero.shape[0])\n",
        "# print(\"No. of records with complementary: \", complementary.shape[0])\n",
        "# print(\"No. of records with no deposit: \", no_deposit.shape[0])\n",
        "\n",
        "# print(\"Difference between the two: \", complementary.compare(complementary_adr_zero))\n",
        "# print(\"--------------------------------------\")\n",
        "\n",
        "# stays_zero = test_data.loc[(test_data['stays_in_week_nights']==0) & (test_data['stays_in_weekend_nights']==0)]\n",
        "# date_match = \n",
        "\n"
      ]
    },
    {
      "cell_type": "code",
      "execution_count": null,
      "metadata": {
        "colab": {
          "base_uri": "https://localhost:8080/"
        },
        "id": "C8in21qW-xdx",
        "outputId": "f9feb339-e9a1-4c8d-b75b-009a971d2af7"
      },
      "outputs": [
        {
          "data": {
            "text/plain": [
              "is_canceled                       1.000000\n",
              "lead_time                         0.293123\n",
              "arrival_date_year                 0.016660\n",
              "arrival_date_week_number          0.008148\n",
              "stays_in_weekend_nights          -0.001791\n",
              "stays_in_week_nights              0.024765\n",
              "adults                            0.060017\n",
              "children                          0.005036\n",
              "babies                           -0.032491\n",
              "meal                              0.003845\n",
              "is_repeated_guest                -0.084793\n",
              "previous_cancellations            0.110133\n",
              "previous_bookings_not_canceled   -0.057358\n",
              "booking_changes                  -0.144381\n",
              "days_in_waiting_list              0.054186\n",
              "adr                               0.047557\n",
              "required_car_parking_spaces      -0.195498\n",
              "total_of_special_requests        -0.234658\n",
              "reserved_assigned_match          -0.247770\n",
              "Name: is_canceled, dtype: float64"
            ]
          },
          "execution_count": 14,
          "metadata": {},
          "output_type": "execute_result"
        }
      ],
      "source": [
        "data.corr()['is_canceled']"
      ]
    },
    {
      "cell_type": "code",
      "execution_count": null,
      "metadata": {
        "id": "8IGl-m7O8Jwt"
      },
      "outputs": [],
      "source": [
        "X = data.drop('is_canceled', axis='columns')\n",
        "y = data.is_canceled"
      ]
    },
    {
      "cell_type": "markdown",
      "metadata": {
        "id": "ODVVuY7I-k_f"
      },
      "source": [
        "## SVM Model"
      ]
    },
    {
      "cell_type": "code",
      "execution_count": null,
      "metadata": {
        "id": "YQJ5MCo784y9"
      },
      "outputs": [],
      "source": [
        "from sklearn import svm\n",
        "from sklearn.preprocessing import StandardScaler\n",
        "from sklearn.preprocessing import OneHotEncoder\n",
        "from sklearn.compose import ColumnTransformer\n",
        "from sklearn.model_selection import train_test_split\n",
        "from sklearn.svm import SVR\n",
        "from sklearn.pipeline import make_pipeline"
      ]
    },
    {
      "cell_type": "code",
      "execution_count": null,
      "metadata": {
        "id": "IFDVKkn6876f"
      },
      "outputs": [],
      "source": [
        "def get_classifier(features):\n",
        "    # Deposit Type, Customer Type, Hotel and Market Segment will be one hot encoded\n",
        "    categorical_features = list(set(features) & set([\n",
        "        'deposit_type',\n",
        "        'customer_type',\n",
        "        'hotel',\n",
        "        'market_segment',\n",
        "    ]))\n",
        "    numerical_features = list(set(features) - set(categorical_features))\n",
        "\n",
        "    columnTransformer = ColumnTransformer(\n",
        "        transformers = [\n",
        "            ('categorial', OneHotEncoder(handle_unknown=\"ignore\"), categorical_features),\n",
        "            ('numerical', StandardScaler(), numerical_features)\n",
        "        ]\n",
        "    )\n",
        "\n",
        "    classifier = make_pipeline(\n",
        "        columnTransformer,\n",
        "        svm.SVC()\n",
        "    )\n",
        "    \n",
        "    return classifier"
      ]
    },
    {
      "cell_type": "code",
      "execution_count": null,
      "metadata": {
        "id": "X7Wve3zN9hOq"
      },
      "outputs": [],
      "source": [
        "from sklearn.model_selection import KFold\n",
        "kfold = KFold(n_splits=5, shuffle=True, random_state=0)"
      ]
    },
    {
      "cell_type": "code",
      "execution_count": null,
      "metadata": {
        "id": "sdAoME7Q9h5I"
      },
      "outputs": [],
      "source": [
        "from itertools import combinations\n",
        "from sklearn.model_selection import cross_val_score\n",
        "from sklearn.metrics import mean_squared_error\n",
        "import numpy as np\n",
        "from numpy.typing import ArrayLike\n",
        "from typing import List"
      ]
    },
    {
      "cell_type": "code",
      "execution_count": null,
      "metadata": {
        "colab": {
          "base_uri": "https://localhost:8080/"
        },
        "id": "ulxjDovA9jUX",
        "outputId": "20bf147e-f1d7-4295-9088-c0939e955a57"
      },
      "outputs": [
        {
          "name": "stdout",
          "output_type": "stream",
          "text": [
            "features:  Index(['hotel', 'lead_time', 'arrival_date_year', 'arrival_date_week_number',\n",
            "       'stays_in_weekend_nights', 'stays_in_week_nights', 'adults', 'children',\n",
            "       'babies', 'meal', 'market_segment', 'is_repeated_guest',\n",
            "       'previous_cancellations', 'previous_bookings_not_canceled',\n",
            "       'booking_changes', 'deposit_type', 'days_in_waiting_list',\n",
            "       'customer_type', 'adr', 'required_car_parking_spaces',\n",
            "       'total_of_special_requests', 'reserved_assigned_match'],\n",
            "      dtype='object')\n"
          ]
        }
      ],
      "source": [
        "print(\"features: \", X.columns)"
      ]
    },
    {
      "cell_type": "code",
      "execution_count": null,
      "metadata": {
        "colab": {
          "base_uri": "https://localhost:8080/"
        },
        "id": "vHVhnY4Q-Rsd",
        "outputId": "9a640b5d-62cf-4f7c-cd8b-fbb9f0e611f8"
      },
      "outputs": [
        {
          "name": "stdout",
          "output_type": "stream",
          "text": [
            "[0.70784823 0.5301114  0.57710026 0.46737583 0.73096574 0.68715973\n",
            " 0.68984002 0.45121032 0.38361672 0.52609096]\n"
          ]
        }
      ],
      "source": [
        "features = X.columns\n",
        "classifier = get_classifier(features)\n",
        "# X = X[:500]\n",
        "# y = y[:500]\n",
        "print(cross_val_score(classifier, X, y, cv=10))"
      ]
    },
    {
      "cell_type": "markdown",
      "metadata": {
        "id": "c0GcWLs1FB2D"
      },
      "source": [
        "## Regression"
      ]
    },
    {
      "cell_type": "code",
      "execution_count": null,
      "metadata": {
        "id": "TgLuRSRdFFBD"
      },
      "outputs": [],
      "source": [
        "from sklearn.linear_model import LinearRegression"
      ]
    },
    {
      "cell_type": "code",
      "execution_count": null,
      "metadata": {
        "id": "skf8Fr4HFFC4"
      },
      "outputs": [],
      "source": [
        "def get_regressor(features):\n",
        "    # Deposit Type, Customer Type, Hotel and Market Segment will be one hot encoded\n",
        "    categorical_features = list(set(features) & set([\n",
        "        'deposit_type',\n",
        "        'customer_type',\n",
        "        'hotel',\n",
        "        'market_segment',\n",
        "    ]))\n",
        "    numerical_features = list(set(features) - set(categorical_features))\n",
        "\n",
        "    columnTransformer = ColumnTransformer(\n",
        "        transformers = [\n",
        "            ('categorial', OneHotEncoder(handle_unknown=\"ignore\"), categorical_features),\n",
        "            ('numerical', StandardScaler(), numerical_features)\n",
        "        ]\n",
        "    )\n",
        "\n",
        "    regressor = make_pipeline(\n",
        "        columnTransformer,\n",
        "        LinearRegression()        \n",
        "    )\n",
        "    \n",
        "    return regressor"
      ]
    },
    {
      "cell_type": "code",
      "execution_count": null,
      "metadata": {
        "id": "YUA4AI-4LpTQ"
      },
      "outputs": [],
      "source": [
        "canceled_data = regression_data[regression_data[\"is_canceled\"]==1]"
      ]
    },
    {
      "cell_type": "code",
      "execution_count": null,
      "metadata": {
        "id": "pOKJMHwWK31o"
      },
      "outputs": [],
      "source": [
        "X = canceled_data.drop('reservation_status_date',axis='columns')\n",
        "y = canceled_data.reservation_status\n",
        "features = X.columns\n",
        "classifier = get_regressor(features)\n",
        "# X = X[:500]\n",
        "# y = y[:500]\n",
        "print(cross_val_score(classifier, X, y, cv=10))"
      ]
    },
    {
      "cell_type": "markdown",
      "metadata": {
        "id": "eSiXj2OL9S8n"
      },
      "source": [
        "## Vaidehi's work"
      ]
    },
    {
      "cell_type": "code",
      "execution_count": null,
      "metadata": {
        "id": "xvwou5eNAMyA"
      },
      "outputs": [],
      "source": [
        "transformer = ColumnTransformer(transformers = [\n",
        "    ('encoder', OneHotEncoder(sparse = False), ['hotel', 'arrival_date_year', 'arrival_date_month','meal', 'market_segment',\n",
        " 'reserved_room_type', 'assigned_room_type', 'deposit_type', 'customer_type', 'reservation_status'])\n",
        "] ,  remainder = 'passthrough')\n",
        "X = np.array(transformer.fit_transform(hotel_dataset))"
      ]
    },
    {
      "cell_type": "code",
      "execution_count": null,
      "metadata": {
        "id": "t1sqCvhhARTn"
      },
      "outputs": [],
      "source": [
        "df2 = pd.DataFrame(X)\n",
        "df2"
      ]
    },
    {
      "cell_type": "code",
      "execution_count": null,
      "metadata": {
        "id": "qFFJhSzqASIN"
      },
      "outputs": [],
      "source": [
        "hotel_dataset_post_ohe = df2.drop(columns = [74, 75, 76, 77, 78, 79, 80, 81, 82, 83])\n",
        "hotel_dataset_post_ohe"
      ]
    },
    {
      "cell_type": "code",
      "execution_count": null,
      "metadata": {
        "id": "tioGpQ5XAVrS"
      },
      "outputs": [],
      "source": [
        "sc_hotel_dataset_post_ohe = StandardScaler()\n",
        "sc_Y = StandardScaler()\n",
        "hotel_dataset_post_ohe = sc_hotel_dataset_post_ohe.fit_transform(hotel_dataset_post_ohe)\n",
        "Y = Y.reshape(-1,1)\n",
        "Y = sc_y.fit_transform(Y)"
      ]
    },
    {
      "cell_type": "code",
      "execution_count": null,
      "metadata": {
        "id": "f4GoP8_EAX2D"
      },
      "outputs": [],
      "source": [
        "\n",
        "hotel_dataset_post_ohe_train, hotel_dataset_post_ohe_test, Y_train, Y_test = train_test_split(hotel_dataset_post_ohe, Y, test_size = 0.2, random_state = 1)"
      ]
    },
    {
      "cell_type": "code",
      "execution_count": null,
      "metadata": {
        "id": "ib4VYeVvAahK"
      },
      "outputs": [],
      "source": [
        "regressor = SVR(kernel = 'rbf')\n",
        "regressor.fit(hotel_dataset_post_ohe, Y)"
      ]
    }
  ],
  "metadata": {
    "colab": {
      "provenance": []
    },
    "kernelspec": {
      "display_name": "Python 3",
      "language": "python",
      "name": "python3"
    },
    "language_info": {
      "codemirror_mode": {
        "name": "ipython",
        "version": 3
      },
      "file_extension": ".py",
      "mimetype": "text/x-python",
      "name": "python",
      "nbconvert_exporter": "python",
      "pygments_lexer": "ipython3",
      "version": "3.10.2 (tags/v3.10.2:a58ebcc, Jan 17 2022, 14:12:15) [MSC v.1929 64 bit (AMD64)]"
    },
    "vscode": {
      "interpreter": {
        "hash": "f7678789a7c5556a9e37c786e19b4dcfdffe90c67947640637d5b08bebb96e06"
      }
    }
  },
  "nbformat": 4,
  "nbformat_minor": 0
}

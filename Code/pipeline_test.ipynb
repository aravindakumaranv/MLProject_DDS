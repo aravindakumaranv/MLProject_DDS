{
 "cells": [
  {
   "cell_type": "code",
   "execution_count": 314,
   "metadata": {},
   "outputs": [],
   "source": [
    "import pandas as pd\n",
    "from sklearn.preprocessing import FunctionTransformer\n",
    "from sklearn.pipeline import make_pipeline\n",
    "import numpy as np\n"
   ]
  },
  {
   "cell_type": "code",
   "execution_count": 315,
   "metadata": {},
   "outputs": [],
   "source": [
    "data = pd.read_csv('../data.csv')\n",
    "backup = pd.read_csv('../data.csv')\n",
    "test = pd.read_csv('../data.csv')"
   ]
  },
  {
   "cell_type": "code",
   "execution_count": 316,
   "metadata": {},
   "outputs": [],
   "source": [
    "class DataImputer:\n",
    "    def __init__(self, column_to_value):\n",
    "        self.column_to_value = column_to_value\n",
    "    \n",
    "    def __call__(self, data:pd.DataFrame, y=None) -> pd.DataFrame:\n",
    "        for column in self.column_to_value.keys():\n",
    "            data[column] = data[column].fillna(self.column_to_value[column])\n",
    "            return data"
   ]
  },
  {
   "cell_type": "code",
   "execution_count": 317,
   "metadata": {},
   "outputs": [],
   "source": [
    "class ArrivalDateTransformer:\n",
    "    def __call__(self, data:pd.DataFrame, y=None) -> pd.DataFrame:\n",
    "        # Converting arrival_date_month values from string to integer\n",
    "        data['arrival_date_month'].replace(\n",
    "            ['July', 'August', 'September', 'October', 'November', 'December', 'January', 'February', 'March', 'April', 'May', 'June'],\n",
    "            [7,8,9,10,11,12,1,2,3,4,5,6],\n",
    "            inplace=True\n",
    "        )\n",
    "\n",
    "        data.rename(\n",
    "            columns = {\n",
    "                'arrival_date_year': 'year', \n",
    "                'arrival_date_month': 'month',\n",
    "                'arrival_date_day_of_month': 'day'\n",
    "            }, \n",
    "            inplace=True\n",
    "        )\n",
    "\n",
    "        # Creating new arrival_date column of type datetime\n",
    "        data.insert(3,'arrival_date',pd.to_datetime(data[['year', 'month', 'day']]))\n",
    "        return data"
   ]
  },
  {
   "cell_type": "code",
   "execution_count": 318,
   "metadata": {},
   "outputs": [],
   "source": [
    "class ColumnRemover:\n",
    "    def __init__(self, columns):\n",
    "        self.columns = columns\n",
    "\n",
    "    def __call__(self, data:pd.DataFrame, y=None) -> pd.DataFrame:\n",
    "        data.drop(self.columns, axis = 1, inplace=True)\n",
    "        return data\n"
   ]
  },
  {
   "cell_type": "code",
   "execution_count": 319,
   "metadata": {},
   "outputs": [],
   "source": [
    "class RoomTypeTransformer:\n",
    "    def __call__(self, data:pd.DataFrame, y=None) -> pd.DataFrame:\n",
    "        data['reserved_assigned_match'] = np.where(data['reserved_room_type'] == data['assigned_room_type'], 0, 1)\n",
    "        data.drop(['reserved_room_type','assigned_room_type'], axis=1, inplace=True)\n",
    "        return data"
   ]
  },
  {
   "cell_type": "code",
   "execution_count": 320,
   "metadata": {},
   "outputs": [],
   "source": [
    "class MealTypeTransformer:\n",
    "    def __call__(self, data:pd.DataFrame, y=None) -> pd.DataFrame:\n",
    "        data['meal'].replace(['Undefined', 'SC', 'BB', 'HB', 'FB'], [0, 0, 0.33, 0.67, 1], inplace=True)\n",
    "        return data"
   ]
  },
  {
   "cell_type": "code",
   "execution_count": 321,
   "metadata": {},
   "outputs": [],
   "source": [
    "class UncleanDataPointsRemover:\n",
    "    def __call__(self, data:pd.DataFrame, y=None) -> pd.DataFrame:\n",
    "        data.drop(\n",
    "            data[\n",
    "                (data['adults']==0) &\n",
    "                (data['children']==0) &\n",
    "                (data['babies']==0) &\n",
    "                (data['stays_in_weekend_nights']==0) & \n",
    "                (data['stays_in_week_nights']==0) &\n",
    "                (data['is_canceled']==0)\n",
    "            ].index,\n",
    "            inplace=True\n",
    "        )\n",
    "\n",
    "        data.drop(\n",
    "            data[\n",
    "                (data[\"adr\"]==0) &  \n",
    "                (data[\"is_canceled\"]==0)  &\n",
    "                (data[\"market_segment\"] != \"Complementary\") &\n",
    "                (data[\"market_segment\"] != \"Corporate\") &\n",
    "                (data[\"market_segment\"] != \"Aviation\") \n",
    "            ].index, \n",
    "            inplace = True\n",
    "        )        \n",
    "\n",
    "        data.drop(\n",
    "            data[\n",
    "                (data[\"stays_in_week_nights\"]==0) &\n",
    "                (data[\"stays_in_weekend_nights\"]==0) &\n",
    "                (data[\"arrival_date\"] == data[\"reservation_status_date\"]) &\n",
    "                (data[\"reservation_status\"]!=\"Check-Out\")\n",
    "            ].index,\n",
    "            inplace=True\n",
    "        )\n",
    "\n",
    "        return data"
   ]
  },
  {
   "cell_type": "code",
   "execution_count": 322,
   "metadata": {},
   "outputs": [],
   "source": [
    "class CancellationsDaysInserter:\n",
    "    def __call__(self, data:pd.DataFrame, y=None) -> pd.DataFrame:\n",
    "        # Creating cancellation_days column which represents how many days in advance the guest cancels \n",
    "        data['reservation_status_date'] = pd.to_datetime(data['reservation_status_date'], format = '%Y-%m-%d')\n",
    "        data['cancellation_days'] = data['arrival_date'] - data['reservation_status_date']\n",
    "        data['cancellation_days'] = data['cancellation_days'].dt.days\n",
    "        return data"
   ]
  },
  {
   "cell_type": "code",
   "execution_count": 323,
   "metadata": {},
   "outputs": [
    {
     "name": "stdout",
     "output_type": "stream",
     "text": [
      "True\n"
     ]
    }
   ],
   "source": [
    "selector = FunctionTransformer(DataImputer(column_to_value={\"children\":0}))\n",
    "data.head()\n",
    "selector.fit_transform(data)\n",
    "\n",
    "backup['children'] = backup['children'].fillna(0)\n",
    "print(backup.equals(data))"
   ]
  },
  {
   "cell_type": "code",
   "execution_count": 324,
   "metadata": {},
   "outputs": [
    {
     "name": "stdout",
     "output_type": "stream",
     "text": [
      "True\n"
     ]
    }
   ],
   "source": [
    "selector = FunctionTransformer(ArrivalDateTransformer())\n",
    "data.head()\n",
    "selector.fit_transform(data)\n",
    "\n",
    "# Converting arrival_date_month values from string to integer\n",
    "backup['arrival_date_month'].replace(\n",
    "    ['July', 'August', 'September', 'October', 'November', 'December', 'January', 'February', 'March', 'April', 'May', 'June'],\n",
    "    [7,8,9,10,11,12,1,2,3,4,5,6],\n",
    "    inplace=True\n",
    ")\n",
    "\n",
    "backup.rename(\n",
    "    columns = {\n",
    "        'arrival_date_year': 'year', \n",
    "        'arrival_date_month': 'month',\n",
    "        'arrival_date_day_of_month': 'day'\n",
    "    }, \n",
    "    inplace=True\n",
    ")\n",
    "\n",
    "# Creating new arrival_date column of type datetime\n",
    "backup.insert(3,'arrival_date',pd.to_datetime(backup[['year', 'month', 'day']]))\n",
    "print(backup.equals(data))"
   ]
  },
  {
   "cell_type": "code",
   "execution_count": 325,
   "metadata": {},
   "outputs": [
    {
     "name": "stdout",
     "output_type": "stream",
     "text": [
      "True\n"
     ]
    }
   ],
   "source": [
    "# Removing country column for now or we can use target encoding\n",
    "backup = backup.drop(['country'], axis=1)\n",
    "\n",
    "# Removing agent and company columns since market_segment gives same information. \n",
    "backup = backup.drop(['agent','company'], axis=1)\n",
    "\n",
    "# Removing all columns relating to arrival date except week number and year.\n",
    "backup = backup.drop(['month','day'], axis=1)\n",
    "\n",
    "# We can remove the distribution channels column as market_segment column gives us same information with more granularity\n",
    "backup = backup.drop(['distribution_channel'], axis=1)\n",
    "\n",
    "selector = FunctionTransformer(ColumnRemover(['country','agent','company','month','day','distribution_channel']))\n",
    "data.head()\n",
    "data = selector.fit_transform(data)\n",
    "\n",
    "print(backup.equals(data))\n"
   ]
  },
  {
   "cell_type": "code",
   "execution_count": 326,
   "metadata": {},
   "outputs": [
    {
     "name": "stdout",
     "output_type": "stream",
     "text": [
      "True\n"
     ]
    }
   ],
   "source": [
    "# We can combine reserved_room_type and assigned_room_type columns into one that has boolean values for whether reserved and assigned matched\n",
    "# 0 -> Reserved and assigned room types matched\n",
    "# 1 -> Reserved and assigned room types didn't match\n",
    "backup['reserved_assigned_match'] = np.where(data['reserved_room_type'] == backup['assigned_room_type'], 0, 1)\n",
    "backup = backup.drop(['reserved_room_type','assigned_room_type'], axis=1)\n",
    "\n",
    "selector = FunctionTransformer(RoomTypeTransformer())\n",
    "data.head()\n",
    "data = selector.fit_transform(data)\n",
    "\n",
    "print(backup.equals(data))"
   ]
  },
  {
   "cell_type": "code",
   "execution_count": 327,
   "metadata": {},
   "outputs": [
    {
     "name": "stdout",
     "output_type": "stream",
     "text": [
      "True\n"
     ]
    }
   ],
   "source": [
    "# We can change the values in the meal types column. 0, 0.33, 0.67, 1 since the meal types are incremental\n",
    "backup['meal'].replace(['Undefined', 'SC', 'BB', 'HB', 'FB'], [0, 0, 0.33, 0.67, 1], inplace=True)\n",
    "selector = FunctionTransformer(MealTypeTransformer())\n",
    "data.head()\n",
    "data = selector.fit_transform(data)\n",
    "\n",
    "print(backup.equals(data))"
   ]
  },
  {
   "cell_type": "code",
   "execution_count": 328,
   "metadata": {},
   "outputs": [
    {
     "name": "stdout",
     "output_type": "stream",
     "text": [
      "True\n"
     ]
    }
   ],
   "source": [
    "# Remove records where adults, babies, children, stays_in_weekend_nights, stays_in_week_nights, is_canceled values are 0\n",
    "backup.drop(\n",
    "    backup[\n",
    "        (backup['adults']==0) &\n",
    "        (backup['children']==0) &\n",
    "        (backup['babies']==0) &\n",
    "        (backup['stays_in_weekend_nights']==0) & \n",
    "        (backup['stays_in_week_nights']==0) &\n",
    "        (backup['is_canceled']==0)\n",
    "    ].index,\n",
    "    inplace=True\n",
    ")\n",
    "\n",
    "# Remove records with adr and is_canceled values as 0 and whose market segment is neither Complementary, Corporate nor Aviation\n",
    "backup.drop(\n",
    "    backup[\n",
    "        (backup[\"adr\"]==0) &  \n",
    "        (backup[\"is_canceled\"]==0)  &\n",
    "        (backup[\"market_segment\"] != \"Complementary\") &\n",
    "        (backup[\"market_segment\"] != \"Corporate\") &\n",
    "        (backup[\"market_segment\"] != \"Aviation\") \n",
    "    ].index, \n",
    "    inplace = True\n",
    ")\n",
    "\n",
    "# Remove records with stays_in_weekend_nights and stays_in_week_nights values as 0 and arrival and reservation status date are the same\n",
    "# and reservation status is not \"Check Out\"\n",
    "backup.drop(\n",
    "    backup[\n",
    "        (backup[\"stays_in_week_nights\"]==0) &\n",
    "        (backup[\"stays_in_weekend_nights\"]==0) &\n",
    "        (backup[\"arrival_date\"] == backup[\"reservation_status_date\"]) &\n",
    "        (backup[\"reservation_status\"]!=\"Check-Out\")\n",
    "    ].index,\n",
    "    inplace=True\n",
    ")\n",
    "\n",
    "selector = FunctionTransformer(UncleanDataPointsRemover())\n",
    "data.head()\n",
    "data = selector.fit_transform(data)\n",
    "\n",
    "print(backup.reset_index(drop=True).equals(data.reset_index(drop=True)))"
   ]
  },
  {
   "cell_type": "code",
   "execution_count": 329,
   "metadata": {},
   "outputs": [
    {
     "name": "stdout",
     "output_type": "stream",
     "text": [
      "True\n"
     ]
    }
   ],
   "source": [
    "# Creating cancellation_days column which represents how many days in advance the guest cancels \n",
    "backup['reservation_status_date'] = pd.to_datetime(backup['reservation_status_date'], format = '%Y-%m-%d')\n",
    "backup['cancellation_days'] = backup['arrival_date'] - backup['reservation_status_date']\n",
    "backup['cancellation_days'] = backup['cancellation_days'].dt.days\n",
    "\n",
    "selector = FunctionTransformer(CancellationsDaysInserter())\n",
    "data.head()\n",
    "data = selector.fit_transform(data)\n",
    "\n",
    "print(backup.equals(data))"
   ]
  },
  {
   "cell_type": "code",
   "execution_count": 330,
   "metadata": {},
   "outputs": [
    {
     "name": "stdout",
     "output_type": "stream",
     "text": [
      "True\n"
     ]
    }
   ],
   "source": [
    "# Reservation Status can be ignored since it is being predicted     -> classification\n",
    "# Reservation Status can be ignored since we will only be training  -> regression\n",
    "# on those points where the booking has been cancelled\n",
    "backup = backup.drop(['reservation_status','reservation_status_date','arrival_date'], axis=1)\n",
    "selector = FunctionTransformer(ColumnRemover(['reservation_status','reservation_status_date','arrival_date']))\n",
    "data.head()\n",
    "data = selector.fit_transform(data)\n",
    "\n",
    "print(backup.equals(data))"
   ]
  },
  {
   "cell_type": "code",
   "execution_count": 331,
   "metadata": {},
   "outputs": [
    {
     "data": {
      "text/plain": [
       "True"
      ]
     },
     "execution_count": 331,
     "metadata": {},
     "output_type": "execute_result"
    }
   ],
   "source": [
    "pipeline = make_pipeline(\n",
    "    FunctionTransformer(DataImputer(column_to_value={\"children\":0})),\n",
    "    FunctionTransformer(ArrivalDateTransformer()),\n",
    "    FunctionTransformer(ColumnRemover(['country','agent','company','month','day','distribution_channel'])),\n",
    "    FunctionTransformer(RoomTypeTransformer()),\n",
    "    FunctionTransformer(MealTypeTransformer()),\n",
    "    FunctionTransformer(UncleanDataPointsRemover()),\n",
    "    FunctionTransformer(CancellationsDaysInserter()),\n",
    "    FunctionTransformer(ColumnRemover(['reservation_status','reservation_status_date','arrival_date']))\n",
    ")\n",
    "\n",
    "pipeline.fit_transform(test)\n",
    "test.equals(backup)"
   ]
  }
 ],
 "metadata": {
  "kernelspec": {
   "display_name": "Python 3",
   "language": "python",
   "name": "python3"
  },
  "language_info": {
   "codemirror_mode": {
    "name": "ipython",
    "version": 3
   },
   "file_extension": ".py",
   "mimetype": "text/x-python",
   "name": "python",
   "nbconvert_exporter": "python",
   "pygments_lexer": "ipython3",
   "version": "3.10.2"
  },
  "orig_nbformat": 4,
  "vscode": {
   "interpreter": {
    "hash": "f7678789a7c5556a9e37c786e19b4dcfdffe90c67947640637d5b08bebb96e06"
   }
  }
 },
 "nbformat": 4,
 "nbformat_minor": 2
}
